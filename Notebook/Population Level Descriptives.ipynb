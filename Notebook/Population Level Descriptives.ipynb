{
 "cells": [
  {
   "cell_type": "code",
   "execution_count": 1,
   "id": "f52ba843",
   "metadata": {},
   "outputs": [
    {
     "name": "stderr",
     "output_type": "stream",
     "text": [
      "-- \u001b[1mAttaching packages\u001b[22m ------------------------------------------------------------------------------- tidyverse 1.3.1 --\n",
      "\n",
      "\u001b[32mv\u001b[39m \u001b[34mggplot2\u001b[39m 3.3.5     \u001b[32mv\u001b[39m \u001b[34mpurrr  \u001b[39m 0.3.4\n",
      "\u001b[32mv\u001b[39m \u001b[34mtibble \u001b[39m 3.1.6     \u001b[32mv\u001b[39m \u001b[34mdplyr  \u001b[39m 1.0.7\n",
      "\u001b[32mv\u001b[39m \u001b[34mtidyr  \u001b[39m 1.1.4     \u001b[32mv\u001b[39m \u001b[34mstringr\u001b[39m 1.4.0\n",
      "\u001b[32mv\u001b[39m \u001b[34mreadr  \u001b[39m 2.1.1     \u001b[32mv\u001b[39m \u001b[34mforcats\u001b[39m 0.5.1\n",
      "\n",
      "-- \u001b[1mConflicts\u001b[22m ---------------------------------------------------------------------------------- tidyverse_conflicts() --\n",
      "\u001b[31mx\u001b[39m \u001b[34mdplyr\u001b[39m::\u001b[32mfilter()\u001b[39m masks \u001b[34mstats\u001b[39m::filter()\n",
      "\u001b[31mx\u001b[39m \u001b[34mdplyr\u001b[39m::\u001b[32mlag()\u001b[39m    masks \u001b[34mstats\u001b[39m::lag()\n",
      "\n",
      "Warning message:\n",
      "\"package 'hrbrthemes' was built under R version 4.1.3\"\n",
      "Warning message:\n",
      "\"package 'fitdistrplus' was built under R version 4.1.3\"\n",
      "Loading required package: MASS\n",
      "\n",
      "\n",
      "Attaching package: 'MASS'\n",
      "\n",
      "\n",
      "The following object is masked from 'package:dplyr':\n",
      "\n",
      "    select\n",
      "\n",
      "\n",
      "Loading required package: survival\n",
      "\n",
      "Warning message:\n",
      "\"package 'fitur' was built under R version 4.1.3\"\n",
      "\n",
      "Attaching package: 'fitur'\n",
      "\n",
      "\n",
      "The following object is masked from 'package:purrr':\n",
      "\n",
      "    rdunif\n",
      "\n",
      "\n",
      "Warning message:\n",
      "\"package 'actuar' was built under R version 4.1.3\"\n",
      "\n",
      "Attaching package: 'actuar'\n",
      "\n",
      "\n",
      "The following objects are masked from 'package:stats':\n",
      "\n",
      "    sd, var\n",
      "\n",
      "\n",
      "The following object is masked from 'package:grDevices':\n",
      "\n",
      "    cm\n",
      "\n",
      "\n",
      "\n",
      "Attaching package: 'scales'\n",
      "\n",
      "\n",
      "The following object is masked from 'package:purrr':\n",
      "\n",
      "    discard\n",
      "\n",
      "\n",
      "The following object is masked from 'package:readr':\n",
      "\n",
      "    col_factor\n",
      "\n",
      "\n",
      "Warning message:\n",
      "\"package 'Hmisc' was built under R version 4.1.3\"\n",
      "Loading required package: lattice\n",
      "\n",
      "Loading required package: Formula\n",
      "\n",
      "\n",
      "Attaching package: 'Hmisc'\n",
      "\n",
      "\n",
      "The following objects are masked from 'package:dplyr':\n",
      "\n",
      "    src, summarize\n",
      "\n",
      "\n",
      "The following objects are masked from 'package:base':\n",
      "\n",
      "    format.pval, units\n",
      "\n",
      "\n",
      "\n",
      "Attaching package: 'reshape2'\n",
      "\n",
      "\n",
      "The following object is masked from 'package:tidyr':\n",
      "\n",
      "    smiths\n",
      "\n",
      "\n",
      "Warning message:\n",
      "\"package 'survey' was built under R version 4.1.3\"\n",
      "Loading required package: grid\n",
      "\n",
      "Loading required package: Matrix\n",
      "\n",
      "\n",
      "Attaching package: 'Matrix'\n",
      "\n",
      "\n",
      "The following objects are masked from 'package:tidyr':\n",
      "\n",
      "    expand, pack, unpack\n",
      "\n",
      "\n",
      "\n",
      "Attaching package: 'survey'\n",
      "\n",
      "\n",
      "The following object is masked from 'package:Hmisc':\n",
      "\n",
      "    deff\n",
      "\n",
      "\n",
      "The following object is masked from 'package:graphics':\n",
      "\n",
      "    dotchart\n",
      "\n",
      "\n"
     ]
    }
   ],
   "source": [
    "library(tidyverse)\n",
    "library(hrbrthemes)\n",
    "library(fitdistrplus)\n",
    "library(fitur)\n",
    "library(actuar)\n",
    "library(scales)\n",
    "library(Hmisc)\n",
    "library(reshape2)\n",
    "library(survey)"
   ]
  },
  {
   "cell_type": "code",
   "execution_count": 2,
   "id": "792eb82d",
   "metadata": {},
   "outputs": [],
   "source": [
    "# Read 1991 data\n",
    "\n",
    "df_1991 <- read.csv(\"C:\\\\Users\\\\Elena.Mariani\\\\Documents\\\\Projects\\\\ahl_weight_loss_modelling\\\\Output\\\\hse_1991.csv\") %>% \n",
    "  mutate(bmi_class = case_when(bmivalid <= 18.5 ~ \"underweight\",\n",
    "                               bmivalid > 18.5 & bmivalid < 25 ~ \"normal\",\n",
    "                               bmivalid >= 25 & bmivalid < 30 ~ \"overweight\",\n",
    "                               bmivalid >= 30 ~ \"obese\",\n",
    "                               TRUE ~ \"NA\"))"
   ]
  },
  {
   "cell_type": "code",
   "execution_count": 3,
   "id": "e8ee2937",
   "metadata": {},
   "outputs": [
    {
     "data": {
      "text/html": [
       "<table class=\"dataframe\">\n",
       "<caption>A tibble: 2 × 3</caption>\n",
       "<thead>\n",
       "\t<tr><th scope=col>sex</th><th scope=col>n</th><th scope=col>perc</th></tr>\n",
       "\t<tr><th scope=col>&lt;int&gt;</th><th scope=col>&lt;int&gt;</th><th scope=col>&lt;chr&gt;</th></tr>\n",
       "</thead>\n",
       "<tbody>\n",
       "\t<tr><td>1</td><td>3111</td><td>47.6%</td></tr>\n",
       "\t<tr><td>2</td><td>3421</td><td>52.4%</td></tr>\n",
       "</tbody>\n",
       "</table>\n"
      ],
      "text/latex": [
       "A tibble: 2 × 3\n",
       "\\begin{tabular}{lll}\n",
       " sex & n & perc\\\\\n",
       " <int> & <int> & <chr>\\\\\n",
       "\\hline\n",
       "\t 1 & 3111 & 47.6\\%\\\\\n",
       "\t 2 & 3421 & 52.4\\%\\\\\n",
       "\\end{tabular}\n"
      ],
      "text/markdown": [
       "\n",
       "A tibble: 2 × 3\n",
       "\n",
       "| sex &lt;int&gt; | n &lt;int&gt; | perc &lt;chr&gt; |\n",
       "|---|---|---|\n",
       "| 1 | 3111 | 47.6% |\n",
       "| 2 | 3421 | 52.4% |\n",
       "\n"
      ],
      "text/plain": [
       "  sex n    perc \n",
       "1 1   3111 47.6%\n",
       "2 2   3421 52.4%"
      ]
     },
     "metadata": {},
     "output_type": "display_data"
    },
    {
     "data": {
      "text/html": [
       "<table class=\"dataframe\">\n",
       "<caption>A data.frame: 4 × 3</caption>\n",
       "<thead>\n",
       "\t<tr><th scope=col>bmi_class</th><th scope=col>n</th><th scope=col>perc</th></tr>\n",
       "\t<tr><th scope=col>&lt;chr&gt;</th><th scope=col>&lt;int&gt;</th><th scope=col>&lt;chr&gt;</th></tr>\n",
       "</thead>\n",
       "<tbody>\n",
       "\t<tr><td>normal     </td><td>3185</td><td>48.8%</td></tr>\n",
       "\t<tr><td>obese      </td><td> 921</td><td>14.1%</td></tr>\n",
       "\t<tr><td>overweight </td><td>2289</td><td>35.0%</td></tr>\n",
       "\t<tr><td>underweight</td><td> 137</td><td>2.1% </td></tr>\n",
       "</tbody>\n",
       "</table>\n"
      ],
      "text/latex": [
       "A data.frame: 4 × 3\n",
       "\\begin{tabular}{lll}\n",
       " bmi\\_class & n & perc\\\\\n",
       " <chr> & <int> & <chr>\\\\\n",
       "\\hline\n",
       "\t normal      & 3185 & 48.8\\%\\\\\n",
       "\t obese       &  921 & 14.1\\%\\\\\n",
       "\t overweight  & 2289 & 35.0\\%\\\\\n",
       "\t underweight &  137 & 2.1\\% \\\\\n",
       "\\end{tabular}\n"
      ],
      "text/markdown": [
       "\n",
       "A data.frame: 4 × 3\n",
       "\n",
       "| bmi_class &lt;chr&gt; | n &lt;int&gt; | perc &lt;chr&gt; |\n",
       "|---|---|---|\n",
       "| normal      | 3185 | 48.8% |\n",
       "| obese       |  921 | 14.1% |\n",
       "| overweight  | 2289 | 35.0% |\n",
       "| underweight |  137 | 2.1%  |\n",
       "\n"
      ],
      "text/plain": [
       "  bmi_class   n    perc \n",
       "1 normal      3185 48.8%\n",
       "2 obese        921 14.1%\n",
       "3 overweight  2289 35.0%\n",
       "4 underweight  137 2.1% "
      ]
     },
     "metadata": {},
     "output_type": "display_data"
    },
    {
     "data": {
      "text/html": [
       "<table class=\"dataframe\">\n",
       "<caption>A data.frame: 1 × 8</caption>\n",
       "<thead>\n",
       "\t<tr><th scope=col>meanAge</th><th scope=col>meanW</th><th scope=col>meanH</th><th scope=col>meanBMI</th><th scope=col>sdAge</th><th scope=col>sdW</th><th scope=col>sdH</th><th scope=col>sdBMI</th></tr>\n",
       "\t<tr><th scope=col>&lt;dbl&gt;</th><th scope=col>&lt;dbl&gt;</th><th scope=col>&lt;dbl&gt;</th><th scope=col>&lt;dbl&gt;</th><th scope=col>&lt;dbl&gt;</th><th scope=col>&lt;dbl&gt;</th><th scope=col>&lt;dbl&gt;</th><th scope=col>&lt;dbl&gt;</th></tr>\n",
       "</thead>\n",
       "<tbody>\n",
       "\t<tr><td>44.97979</td><td>71.78405</td><td>167.6253</td><td>25.48403</td><td>18.04731</td><td>14.37887</td><td>9.717674</td><td>4.340374</td></tr>\n",
       "</tbody>\n",
       "</table>\n"
      ],
      "text/latex": [
       "A data.frame: 1 × 8\n",
       "\\begin{tabular}{llllllll}\n",
       " meanAge & meanW & meanH & meanBMI & sdAge & sdW & sdH & sdBMI\\\\\n",
       " <dbl> & <dbl> & <dbl> & <dbl> & <dbl> & <dbl> & <dbl> & <dbl>\\\\\n",
       "\\hline\n",
       "\t 44.97979 & 71.78405 & 167.6253 & 25.48403 & 18.04731 & 14.37887 & 9.717674 & 4.340374\\\\\n",
       "\\end{tabular}\n"
      ],
      "text/markdown": [
       "\n",
       "A data.frame: 1 × 8\n",
       "\n",
       "| meanAge &lt;dbl&gt; | meanW &lt;dbl&gt; | meanH &lt;dbl&gt; | meanBMI &lt;dbl&gt; | sdAge &lt;dbl&gt; | sdW &lt;dbl&gt; | sdH &lt;dbl&gt; | sdBMI &lt;dbl&gt; |\n",
       "|---|---|---|---|---|---|---|---|\n",
       "| 44.97979 | 71.78405 | 167.6253 | 25.48403 | 18.04731 | 14.37887 | 9.717674 | 4.340374 |\n",
       "\n"
      ],
      "text/plain": [
       "  meanAge  meanW    meanH    meanBMI  sdAge    sdW      sdH      sdBMI   \n",
       "1 44.97979 71.78405 167.6253 25.48403 18.04731 14.37887 9.717674 4.340374"
      ]
     },
     "metadata": {},
     "output_type": "display_data"
    },
    {
     "data": {
      "text/html": [
       "6532"
      ],
      "text/latex": [
       "6532"
      ],
      "text/markdown": [
       "6532"
      ],
      "text/plain": [
       "[1] 6532"
      ]
     },
     "metadata": {},
     "output_type": "display_data"
    }
   ],
   "source": [
    "# Sample description for 1991 data\n",
    "\n",
    "df_1991 %>% \n",
    "  group_by(sex) %>% \n",
    "  count() %>% \n",
    "  ungroup() %>% \n",
    "  mutate(perc = label_percent()(n/sum(n)))\n",
    "\n",
    "df_1991 %>% \n",
    "  count(bmi_class) %>% \n",
    "  mutate(perc = label_percent(accuracy = 0.1)(n/sum(n)))\n",
    "\n",
    "df_1991 %>% \n",
    "  summarise(meanAge = mean(age),\n",
    "            meanW = mean(wtvalid),\n",
    "            meanH = mean(htvalid),\n",
    "            meanBMI = mean(bmivalid),\n",
    "            sdAge = sd(age),\n",
    "            sdW = sd(wtvalid),\n",
    "            sdH = sd(htvalid),\n",
    "            sdBMI = sd(bmivalid))\n",
    "\n",
    "nrow(df_1991)"
   ]
  },
  {
   "cell_type": "code",
   "execution_count": 4,
   "id": "4d26595c",
   "metadata": {},
   "outputs": [],
   "source": [
    "# Read 2019 data\n",
    "\n",
    "df <- read.csv(\"C:/Users/Elena.Mariani/Documents/Projects/ahl_weight_loss_modelling/Data/calorie_deficit_scenarios_w_imd.csv\", sep = \",\", fileEncoding=\"UTF-8-BOM\") \n",
    "\n",
    "# BMI restriction\n",
    "\n",
    "bmi_out <- df  %>% filter(BMI_est >= 45 | BMI_est <= 15)\n",
    "\n",
    "df1 <- df  %>% filter(!X %in% bmi_out$X)\n",
    "\n",
    "# weight restriction\n",
    "\n",
    "outlier <- boxplot.stats(df1$Wt_est)$out\n",
    "\n",
    "wgt_out <- df1  %>% filter(Wt_est %in% outlier)\n",
    "\n",
    "df2 <- df1[which(!df1$Wt_est %in% outlier),] \n",
    "\n"
   ]
  },
  {
   "cell_type": "code",
   "execution_count": 5,
   "id": "82bbe5ca",
   "metadata": {},
   "outputs": [
    {
     "data": {
      "text/html": [
       "107.340408196468"
      ],
      "text/latex": [
       "107.340408196468"
      ],
      "text/markdown": [
       "107.340408196468"
      ],
      "text/plain": [
       "[1] 107.3404"
      ]
     },
     "metadata": {},
     "output_type": "display_data"
    },
    {
     "data": {
      "text/html": [
       "98.9753588199512"
      ],
      "text/latex": [
       "98.9753588199512"
      ],
      "text/markdown": [
       "98.9753588199512"
      ],
      "text/plain": [
       "[1] 98.97536"
      ]
     },
     "metadata": {},
     "output_type": "display_data"
    },
    {
     "data": {
      "text/html": [
       "-0.0259668929527259"
      ],
      "text/latex": [
       "-0.0259668929527259"
      ],
      "text/markdown": [
       "-0.0259668929527259"
      ],
      "text/plain": [
       "[1] -0.02596689"
      ]
     },
     "metadata": {},
     "output_type": "display_data"
    }
   ],
   "source": [
    "# descriptives for BMI and weight restrictions\n",
    "\n",
    "sum(bmi_out$sample_weight)\n",
    "\n",
    "sum(wgt_out$sample_weight)\n",
    "\n",
    "sum(df2$sample_weight)/sum(df$sample_weight)-1"
   ]
  },
  {
   "cell_type": "code",
   "execution_count": 6,
   "id": "ff531998",
   "metadata": {},
   "outputs": [
    {
     "data": {
      "text/html": [
       "<table class=\"dataframe\">\n",
       "<caption>A data.frame: 2 × 3</caption>\n",
       "<thead>\n",
       "\t<tr><th scope=col>Sex</th><th scope=col>n</th><th scope=col>perc</th></tr>\n",
       "\t<tr><th scope=col>&lt;chr&gt;</th><th scope=col>&lt;dbl&gt;</th><th scope=col>&lt;chr&gt;</th></tr>\n",
       "</thead>\n",
       "<tbody>\n",
       "\t<tr><td>female</td><td>80.69886</td><td>75%</td></tr>\n",
       "\t<tr><td>male  </td><td>26.64155</td><td>25%</td></tr>\n",
       "</tbody>\n",
       "</table>\n"
      ],
      "text/latex": [
       "A data.frame: 2 × 3\n",
       "\\begin{tabular}{lll}\n",
       " Sex & n & perc\\\\\n",
       " <chr> & <dbl> & <chr>\\\\\n",
       "\\hline\n",
       "\t female & 80.69886 & 75\\%\\\\\n",
       "\t male   & 26.64155 & 25\\%\\\\\n",
       "\\end{tabular}\n"
      ],
      "text/markdown": [
       "\n",
       "A data.frame: 2 × 3\n",
       "\n",
       "| Sex &lt;chr&gt; | n &lt;dbl&gt; | perc &lt;chr&gt; |\n",
       "|---|---|---|\n",
       "| female | 80.69886 | 75% |\n",
       "| male   | 26.64155 | 25% |\n",
       "\n"
      ],
      "text/plain": [
       "  Sex    n        perc\n",
       "1 female 80.69886 75% \n",
       "2 male   26.64155 25% "
      ]
     },
     "metadata": {},
     "output_type": "display_data"
    },
    {
     "data": {
      "text/html": [
       "<table class=\"dataframe\">\n",
       "<caption>A data.frame: 2 × 3</caption>\n",
       "<thead>\n",
       "\t<tr><th scope=col>BMI_class</th><th scope=col>n</th><th scope=col>perc</th></tr>\n",
       "\t<tr><th scope=col>&lt;chr&gt;</th><th scope=col>&lt;dbl&gt;</th><th scope=col>&lt;chr&gt;</th></tr>\n",
       "</thead>\n",
       "<tbody>\n",
       "\t<tr><td>obese      </td><td>101.366883</td><td>94%</td></tr>\n",
       "\t<tr><td>underweight</td><td>  5.973525</td><td>6% </td></tr>\n",
       "</tbody>\n",
       "</table>\n"
      ],
      "text/latex": [
       "A data.frame: 2 × 3\n",
       "\\begin{tabular}{lll}\n",
       " BMI\\_class & n & perc\\\\\n",
       " <chr> & <dbl> & <chr>\\\\\n",
       "\\hline\n",
       "\t obese       & 101.366883 & 94\\%\\\\\n",
       "\t underweight &   5.973525 & 6\\% \\\\\n",
       "\\end{tabular}\n"
      ],
      "text/markdown": [
       "\n",
       "A data.frame: 2 × 3\n",
       "\n",
       "| BMI_class &lt;chr&gt; | n &lt;dbl&gt; | perc &lt;chr&gt; |\n",
       "|---|---|---|\n",
       "| obese       | 101.366883 | 94% |\n",
       "| underweight |   5.973525 | 6%  |\n",
       "\n"
      ],
      "text/plain": [
       "  BMI_class   n          perc\n",
       "1 obese       101.366883 94% \n",
       "2 underweight   5.973525 6%  "
      ]
     },
     "metadata": {},
     "output_type": "display_data"
    },
    {
     "data": {
      "text/html": [
       "<table class=\"dataframe\">\n",
       "<caption>A data.frame: 1 × 4</caption>\n",
       "<thead>\n",
       "\t<tr><th scope=col>meanAge</th><th scope=col>meanW</th><th scope=col>meanH</th><th scope=col>meanBMI</th></tr>\n",
       "\t<tr><th scope=col>&lt;dbl&gt;</th><th scope=col>&lt;dbl&gt;</th><th scope=col>&lt;dbl&gt;</th><th scope=col>&lt;dbl&gt;</th></tr>\n",
       "</thead>\n",
       "<tbody>\n",
       "\t<tr><td>46.97865</td><td>129.4809</td><td>163.794</td><td>48.13931</td></tr>\n",
       "</tbody>\n",
       "</table>\n"
      ],
      "text/latex": [
       "A data.frame: 1 × 4\n",
       "\\begin{tabular}{llll}\n",
       " meanAge & meanW & meanH & meanBMI\\\\\n",
       " <dbl> & <dbl> & <dbl> & <dbl>\\\\\n",
       "\\hline\n",
       "\t 46.97865 & 129.4809 & 163.794 & 48.13931\\\\\n",
       "\\end{tabular}\n"
      ],
      "text/markdown": [
       "\n",
       "A data.frame: 1 × 4\n",
       "\n",
       "| meanAge &lt;dbl&gt; | meanW &lt;dbl&gt; | meanH &lt;dbl&gt; | meanBMI &lt;dbl&gt; |\n",
       "|---|---|---|---|\n",
       "| 46.97865 | 129.4809 | 163.794 | 48.13931 |\n",
       "\n"
      ],
      "text/plain": [
       "  meanAge  meanW    meanH   meanBMI \n",
       "1 46.97865 129.4809 163.794 48.13931"
      ]
     },
     "metadata": {},
     "output_type": "display_data"
    }
   ],
   "source": [
    "# analyse bmi restriction\n",
    "\n",
    "bmi_out %>% \n",
    "  count(Sex, wt = sample_weight) %>% \n",
    "  mutate(perc = label_percent()(n/sum(n)))\n",
    "\n",
    "bmi_out %>% \n",
    "  count(BMI_class, wt = sample_weight) %>% \n",
    "  mutate(perc = label_percent()(n/sum(n)))\n",
    "\n",
    "bmi_out %>% \n",
    "  summarise(meanAge = wtd.mean(Age_est, weights = sample_weight),\n",
    "            meanW = wtd.mean(Wt_est, weights = sample_weight),\n",
    "            meanH = wtd.mean(Ht_est, weights = sample_weight),\n",
    "            meanBMI = wtd.mean(BMI_est, weights = sample_weight))"
   ]
  },
  {
   "cell_type": "code",
   "execution_count": 7,
   "id": "9d2c6e44",
   "metadata": {},
   "outputs": [
    {
     "data": {
      "text/html": [
       "<table class=\"dataframe\">\n",
       "<caption>A data.frame: 2 × 3</caption>\n",
       "<thead>\n",
       "\t<tr><th scope=col>Sex</th><th scope=col>n</th><th scope=col>perc</th></tr>\n",
       "\t<tr><th scope=col>&lt;chr&gt;</th><th scope=col>&lt;dbl&gt;</th><th scope=col>&lt;chr&gt;</th></tr>\n",
       "</thead>\n",
       "<tbody>\n",
       "\t<tr><td>female</td><td>11.22896</td><td>11%</td></tr>\n",
       "\t<tr><td>male  </td><td>87.74640</td><td>89%</td></tr>\n",
       "</tbody>\n",
       "</table>\n"
      ],
      "text/latex": [
       "A data.frame: 2 × 3\n",
       "\\begin{tabular}{lll}\n",
       " Sex & n & perc\\\\\n",
       " <chr> & <dbl> & <chr>\\\\\n",
       "\\hline\n",
       "\t female & 11.22896 & 11\\%\\\\\n",
       "\t male   & 87.74640 & 89\\%\\\\\n",
       "\\end{tabular}\n"
      ],
      "text/markdown": [
       "\n",
       "A data.frame: 2 × 3\n",
       "\n",
       "| Sex &lt;chr&gt; | n &lt;dbl&gt; | perc &lt;chr&gt; |\n",
       "|---|---|---|\n",
       "| female | 11.22896 | 11% |\n",
       "| male   | 87.74640 | 89% |\n",
       "\n"
      ],
      "text/plain": [
       "  Sex    n        perc\n",
       "1 female 11.22896 11% \n",
       "2 male   87.74640 89% "
      ]
     },
     "metadata": {},
     "output_type": "display_data"
    },
    {
     "data": {
      "text/html": [
       "<table class=\"dataframe\">\n",
       "<caption>A data.frame: 1 × 3</caption>\n",
       "<thead>\n",
       "\t<tr><th scope=col>BMI_class</th><th scope=col>n</th><th scope=col>perc</th></tr>\n",
       "\t<tr><th scope=col>&lt;chr&gt;</th><th scope=col>&lt;dbl&gt;</th><th scope=col>&lt;chr&gt;</th></tr>\n",
       "</thead>\n",
       "<tbody>\n",
       "\t<tr><td>obese</td><td>98.97536</td><td>100%</td></tr>\n",
       "</tbody>\n",
       "</table>\n"
      ],
      "text/latex": [
       "A data.frame: 1 × 3\n",
       "\\begin{tabular}{lll}\n",
       " BMI\\_class & n & perc\\\\\n",
       " <chr> & <dbl> & <chr>\\\\\n",
       "\\hline\n",
       "\t obese & 98.97536 & 100\\%\\\\\n",
       "\\end{tabular}\n"
      ],
      "text/markdown": [
       "\n",
       "A data.frame: 1 × 3\n",
       "\n",
       "| BMI_class &lt;chr&gt; | n &lt;dbl&gt; | perc &lt;chr&gt; |\n",
       "|---|---|---|\n",
       "| obese | 98.97536 | 100% |\n",
       "\n"
      ],
      "text/plain": [
       "  BMI_class n        perc\n",
       "1 obese     98.97536 100%"
      ]
     },
     "metadata": {},
     "output_type": "display_data"
    },
    {
     "data": {
      "text/html": [
       "<table class=\"dataframe\">\n",
       "<caption>A data.frame: 1 × 4</caption>\n",
       "<thead>\n",
       "\t<tr><th scope=col>meanAge</th><th scope=col>meanW</th><th scope=col>meanH</th><th scope=col>meanBMI</th></tr>\n",
       "\t<tr><th scope=col>&lt;dbl&gt;</th><th scope=col>&lt;dbl&gt;</th><th scope=col>&lt;dbl&gt;</th><th scope=col>&lt;dbl&gt;</th></tr>\n",
       "</thead>\n",
       "<tbody>\n",
       "\t<tr><td>41.11802</td><td>132.8205</td><td>182.4447</td><td>39.99814</td></tr>\n",
       "</tbody>\n",
       "</table>\n"
      ],
      "text/latex": [
       "A data.frame: 1 × 4\n",
       "\\begin{tabular}{llll}\n",
       " meanAge & meanW & meanH & meanBMI\\\\\n",
       " <dbl> & <dbl> & <dbl> & <dbl>\\\\\n",
       "\\hline\n",
       "\t 41.11802 & 132.8205 & 182.4447 & 39.99814\\\\\n",
       "\\end{tabular}\n"
      ],
      "text/markdown": [
       "\n",
       "A data.frame: 1 × 4\n",
       "\n",
       "| meanAge &lt;dbl&gt; | meanW &lt;dbl&gt; | meanH &lt;dbl&gt; | meanBMI &lt;dbl&gt; |\n",
       "|---|---|---|---|\n",
       "| 41.11802 | 132.8205 | 182.4447 | 39.99814 |\n",
       "\n"
      ],
      "text/plain": [
       "  meanAge  meanW    meanH    meanBMI \n",
       "1 41.11802 132.8205 182.4447 39.99814"
      ]
     },
     "metadata": {},
     "output_type": "display_data"
    }
   ],
   "source": [
    "# analyse outliers\n",
    "\n",
    "wgt_out %>% \n",
    "  count(Sex, wt = sample_weight) %>% \n",
    "  mutate(perc = label_percent()(n/sum(n)))\n",
    "\n",
    "wgt_out %>% \n",
    "  count(BMI_class, wt = sample_weight) %>% \n",
    "  mutate(perc = label_percent()(n/sum(n)))\n",
    "\n",
    "wgt_out %>% \n",
    "  summarise(meanAge = wtd.mean(Age_est, weights = sample_weight),\n",
    "            meanW = wtd.mean(Wt_est, weights = sample_weight),\n",
    "            meanH = wtd.mean(Ht_est, weights = sample_weight),\n",
    "            meanBMI = wtd.mean(BMI_est, weights = sample_weight))"
   ]
  },
  {
   "cell_type": "code",
   "execution_count": 8,
   "id": "2fb6fb78",
   "metadata": {},
   "outputs": [
    {
     "data": {
      "text/html": [
       "7739.02322259729"
      ],
      "text/latex": [
       "7739.02322259729"
      ],
      "text/markdown": [
       "7739.02322259729"
      ],
      "text/plain": [
       "[1] 7739.023"
      ]
     },
     "metadata": {},
     "output_type": "display_data"
    },
    {
     "data": {
      "text/html": [
       "<table class=\"dataframe\">\n",
       "<caption>A data.frame: 2 × 3</caption>\n",
       "<thead>\n",
       "\t<tr><th scope=col>Sex</th><th scope=col>n</th><th scope=col>perc</th></tr>\n",
       "\t<tr><th scope=col>&lt;chr&gt;</th><th scope=col>&lt;dbl&gt;</th><th scope=col>&lt;chr&gt;</th></tr>\n",
       "</thead>\n",
       "<tbody>\n",
       "\t<tr><td>female</td><td>3936.794</td><td>50.9%</td></tr>\n",
       "\t<tr><td>male  </td><td>3802.229</td><td>49.1%</td></tr>\n",
       "</tbody>\n",
       "</table>\n"
      ],
      "text/latex": [
       "A data.frame: 2 × 3\n",
       "\\begin{tabular}{lll}\n",
       " Sex & n & perc\\\\\n",
       " <chr> & <dbl> & <chr>\\\\\n",
       "\\hline\n",
       "\t female & 3936.794 & 50.9\\%\\\\\n",
       "\t male   & 3802.229 & 49.1\\%\\\\\n",
       "\\end{tabular}\n"
      ],
      "text/markdown": [
       "\n",
       "A data.frame: 2 × 3\n",
       "\n",
       "| Sex &lt;chr&gt; | n &lt;dbl&gt; | perc &lt;chr&gt; |\n",
       "|---|---|---|\n",
       "| female | 3936.794 | 50.9% |\n",
       "| male   | 3802.229 | 49.1% |\n",
       "\n"
      ],
      "text/plain": [
       "  Sex    n        perc \n",
       "1 female 3936.794 50.9%\n",
       "2 male   3802.229 49.1%"
      ]
     },
     "metadata": {},
     "output_type": "display_data"
    },
    {
     "data": {
      "text/html": [
       "<table class=\"dataframe\">\n",
       "<caption>A data.frame: 4 × 3</caption>\n",
       "<thead>\n",
       "\t<tr><th scope=col>BMI_class</th><th scope=col>n</th><th scope=col>perc</th></tr>\n",
       "\t<tr><th scope=col>&lt;chr&gt;</th><th scope=col>&lt;dbl&gt;</th><th scope=col>&lt;chr&gt;</th></tr>\n",
       "</thead>\n",
       "<tbody>\n",
       "\t<tr><td>normal     </td><td>2733.9320</td><td>35.3%</td></tr>\n",
       "\t<tr><td>obese      </td><td>2042.5459</td><td>26.4%</td></tr>\n",
       "\t<tr><td>overweight </td><td>2823.8141</td><td>36.5%</td></tr>\n",
       "\t<tr><td>underweight</td><td> 138.7313</td><td>1.8% </td></tr>\n",
       "</tbody>\n",
       "</table>\n"
      ],
      "text/latex": [
       "A data.frame: 4 × 3\n",
       "\\begin{tabular}{lll}\n",
       " BMI\\_class & n & perc\\\\\n",
       " <chr> & <dbl> & <chr>\\\\\n",
       "\\hline\n",
       "\t normal      & 2733.9320 & 35.3\\%\\\\\n",
       "\t obese       & 2042.5459 & 26.4\\%\\\\\n",
       "\t overweight  & 2823.8141 & 36.5\\%\\\\\n",
       "\t underweight &  138.7313 & 1.8\\% \\\\\n",
       "\\end{tabular}\n"
      ],
      "text/markdown": [
       "\n",
       "A data.frame: 4 × 3\n",
       "\n",
       "| BMI_class &lt;chr&gt; | n &lt;dbl&gt; | perc &lt;chr&gt; |\n",
       "|---|---|---|\n",
       "| normal      | 2733.9320 | 35.3% |\n",
       "| obese       | 2042.5459 | 26.4% |\n",
       "| overweight  | 2823.8141 | 36.5% |\n",
       "| underweight |  138.7313 | 1.8%  |\n",
       "\n"
      ],
      "text/plain": [
       "  BMI_class   n         perc \n",
       "1 normal      2733.9320 35.3%\n",
       "2 obese       2042.5459 26.4%\n",
       "3 overweight  2823.8141 36.5%\n",
       "4 underweight  138.7313 1.8% "
      ]
     },
     "metadata": {},
     "output_type": "display_data"
    },
    {
     "data": {
      "text/html": [
       "<table class=\"dataframe\">\n",
       "<caption>A data.frame: 1 × 8</caption>\n",
       "<thead>\n",
       "\t<tr><th scope=col>meanAge</th><th scope=col>meanW</th><th scope=col>meanH</th><th scope=col>meanBMI</th><th scope=col>sdAge</th><th scope=col>sdW</th><th scope=col>sdH</th><th scope=col>sdBMI</th></tr>\n",
       "\t<tr><th scope=col>&lt;dbl&gt;</th><th scope=col>&lt;dbl&gt;</th><th scope=col>&lt;dbl&gt;</th><th scope=col>&lt;dbl&gt;</th><th scope=col>&lt;dbl&gt;</th><th scope=col>&lt;dbl&gt;</th><th scope=col>&lt;dbl&gt;</th><th scope=col>&lt;dbl&gt;</th></tr>\n",
       "</thead>\n",
       "<tbody>\n",
       "\t<tr><td>47.9902</td><td>77.26082</td><td>168.4626</td><td>27.17517</td><td>19.08919</td><td>16.28943</td><td>9.990362</td><td>5.079456</td></tr>\n",
       "</tbody>\n",
       "</table>\n"
      ],
      "text/latex": [
       "A data.frame: 1 × 8\n",
       "\\begin{tabular}{llllllll}\n",
       " meanAge & meanW & meanH & meanBMI & sdAge & sdW & sdH & sdBMI\\\\\n",
       " <dbl> & <dbl> & <dbl> & <dbl> & <dbl> & <dbl> & <dbl> & <dbl>\\\\\n",
       "\\hline\n",
       "\t 47.9902 & 77.26082 & 168.4626 & 27.17517 & 19.08919 & 16.28943 & 9.990362 & 5.079456\\\\\n",
       "\\end{tabular}\n"
      ],
      "text/markdown": [
       "\n",
       "A data.frame: 1 × 8\n",
       "\n",
       "| meanAge &lt;dbl&gt; | meanW &lt;dbl&gt; | meanH &lt;dbl&gt; | meanBMI &lt;dbl&gt; | sdAge &lt;dbl&gt; | sdW &lt;dbl&gt; | sdH &lt;dbl&gt; | sdBMI &lt;dbl&gt; |\n",
       "|---|---|---|---|---|---|---|---|\n",
       "| 47.9902 | 77.26082 | 168.4626 | 27.17517 | 19.08919 | 16.28943 | 9.990362 | 5.079456 |\n",
       "\n"
      ],
      "text/plain": [
       "  meanAge meanW    meanH    meanBMI  sdAge    sdW      sdH      sdBMI   \n",
       "1 47.9902 77.26082 168.4626 27.17517 19.08919 16.28943 9.990362 5.079456"
      ]
     },
     "metadata": {},
     "output_type": "display_data"
    }
   ],
   "source": [
    "sum(df2$sample_weight)\n",
    "\n",
    "df2 %>% \n",
    "  count(Sex, wt = sample_weight) %>% \n",
    "  mutate(perc = label_percent()(n/sum(n)))\n",
    "\n",
    "df2 %>% \n",
    "  count(BMI_class, wt = sample_weight) %>% \n",
    "  mutate(perc = label_percent()(n/sum(n)))\n",
    "\n",
    "df2 %>% \n",
    "  summarise(meanAge = wtd.mean(Age_est, weights = sample_weight),\n",
    "            meanW = wtd.mean(Wt_est, weights = sample_weight),\n",
    "            meanH = wtd.mean(Ht_est, weights = sample_weight),\n",
    "            meanBMI = wtd.mean(BMI_est, weights = sample_weight),\n",
    "            sdAge = sqrt(wtd.var(Age_est, weights = sample_weight)),\n",
    "            sdW =sqrt( wtd.var(Wt_est, weights = sample_weight)),\n",
    "            sdH = sqrt(wtd.var(Ht_est, weights = sample_weight)),\n",
    "            sdBMI = sqrt(wtd.var(BMI_est, weights = sample_weight)))\n"
   ]
  },
  {
   "cell_type": "code",
   "execution_count": 9,
   "id": "e6c0abc5",
   "metadata": {},
   "outputs": [],
   "source": [
    "# split data by sex\n",
    "\n",
    "df_m <- df2 %>% filter(Sex == \"male\")\n",
    "df_f <- df2 %>% filter(Sex == \"female\")\n",
    "\n",
    "df_1991_m <- df_1991 %>% filter(sex == 1)\n",
    "df_1991_f <- df_1991 %>% filter(sex == 2)\n"
   ]
  },
  {
   "cell_type": "code",
   "execution_count": 10,
   "id": "ebeb9eca",
   "metadata": {},
   "outputs": [],
   "source": [
    "# women\n",
    "\n",
    "old_f <- df_1991_f %>% \n",
    "  dplyr::select(bmivalid, wtvalid, htvalid, age) %>% \n",
    "  mutate(sample_weight = 1) %>% \n",
    "  rename(height = htvalid,\n",
    "         weight = wtvalid,\n",
    "         bmi = bmivalid) %>% \n",
    "  mutate(intake = .0278*(weight^2) + 9.2893*weight + 1528.9) %>% \n",
    "  mutate(sex = \"Female\")\n",
    "\n",
    "actual_f <- df_f %>% \n",
    "  dplyr::select(Ht_est, BMI_est, Wt_est, sample_weight, Age_est) %>% \n",
    "  rename(height = Ht_est,\n",
    "         bmi = BMI_est,\n",
    "         weight = Wt_est,\n",
    "        age = Age_est) %>% \n",
    "  mutate(intake = .0278*(weight^2) + 9.2893*weight + 1528.9) %>% \n",
    "  mutate(sex = \"Female\")\n",
    "\n",
    "all_f <- rbind(old_f %>% mutate(type = \"1991\"),\n",
    "               actual_f %>% mutate(type = \"2019\"))"
   ]
  },
  {
   "cell_type": "code",
   "execution_count": 15,
   "id": "72121a8a",
   "metadata": {},
   "outputs": [
    {
     "data": {
      "image/png": "[encoded data removed]",
      "text/plain": [
       "plot without title"
      ]
     },
     "metadata": {
      "image/png": {
       "height": 420,
       "width": 420
      }
     },
     "output_type": "display_data"
    }
   ],
   "source": [
    "ggplot(all_f, aes(x = bmi, group = type, color = type)) + \n",
    "  geom_density(aes(weight = sample_weight), size = 3) +\n",
    "  labs(x = \"BMI\",\n",
    "       color = \"\",\n",
    "       title = \"Females\") +\n",
    "  theme_ipsum()"
   ]
  },
  {
   "cell_type": "code",
   "execution_count": 16,
   "id": "5aa05ca1",
   "metadata": {},
   "outputs": [],
   "source": [
    "# men\n",
    "\n",
    "old_m <- df_1991_m %>% \n",
    "  dplyr::select(bmivalid, wtvalid, htvalid, age) %>% \n",
    "  mutate(sample_weight = 1) %>% \n",
    "  rename(height = htvalid,\n",
    "         weight = wtvalid,\n",
    "         bmi = bmivalid) %>% \n",
    "  mutate(intake = -.0971*(weight^2) + 40.853*weight + 323.59) %>% \n",
    "  mutate(sex = \"Male\")\n",
    "\n",
    "actual_m <- df_m %>% \n",
    "  dplyr::select(Ht_est, BMI_est, Wt_est, sample_weight, Age_est) %>% \n",
    "  rename(height = Ht_est,\n",
    "         bmi = BMI_est,\n",
    "         weight = Wt_est,\n",
    "        age = Age_est) %>% \n",
    "  mutate(intake = -.0971*(weight^2) + 40.853*weight + 323.59) %>% \n",
    "  mutate(sex = \"Male\")\n",
    "\n",
    "all_m <- rbind(old_m %>% mutate(type = \"1991\"),\n",
    "               actual_m %>% mutate(type = \"2019\"))"
   ]
  },
  {
   "cell_type": "code",
   "execution_count": 17,
   "id": "939edb9c",
   "metadata": {},
   "outputs": [
    {
     "data": {
      "image/png": "[encoded data removed]",
      "text/plain": [
       "plot without title"
      ]
     },
     "metadata": {
      "image/png": {
       "height": 420,
       "width": 420
      }
     },
     "output_type": "display_data"
    }
   ],
   "source": [
    "ggplot(all_m, aes(x = bmi, group = type, color = type)) + \n",
    "  geom_density(aes(weight = sample_weight), size = 3) +\n",
    "  labs(x = \"BMI\",\n",
    "       color = \"\",\n",
    "       title = \"Males\") +\n",
    "  theme_ipsum()"
   ]
  },
  {
   "cell_type": "code",
   "execution_count": 18,
   "id": "aa7c6861",
   "metadata": {},
   "outputs": [
    {
     "data": {
      "text/html": [
       "<table class=\"dataframe\">\n",
       "<caption>A data.frame: 4 × 3</caption>\n",
       "<thead>\n",
       "\t<tr><th scope=col>bmi_class</th><th scope=col>n</th><th scope=col>freq</th></tr>\n",
       "\t<tr><th scope=col>&lt;chr&gt;</th><th scope=col>&lt;dbl&gt;</th><th scope=col>&lt;dbl&gt;</th></tr>\n",
       "</thead>\n",
       "<tbody>\n",
       "\t<tr><td>normal     </td><td>2733.9320</td><td>0.3532658</td></tr>\n",
       "\t<tr><td>obese      </td><td>2042.5459</td><td>0.2639281</td></tr>\n",
       "\t<tr><td>overweight </td><td>2823.8141</td><td>0.3648799</td></tr>\n",
       "\t<tr><td>underweight</td><td> 138.7313</td><td>0.0179262</td></tr>\n",
       "</tbody>\n",
       "</table>\n"
      ],
      "text/latex": [
       "A data.frame: 4 × 3\n",
       "\\begin{tabular}{lll}\n",
       " bmi\\_class & n & freq\\\\\n",
       " <chr> & <dbl> & <dbl>\\\\\n",
       "\\hline\n",
       "\t normal      & 2733.9320 & 0.3532658\\\\\n",
       "\t obese       & 2042.5459 & 0.2639281\\\\\n",
       "\t overweight  & 2823.8141 & 0.3648799\\\\\n",
       "\t underweight &  138.7313 & 0.0179262\\\\\n",
       "\\end{tabular}\n"
      ],
      "text/markdown": [
       "\n",
       "A data.frame: 4 × 3\n",
       "\n",
       "| bmi_class &lt;chr&gt; | n &lt;dbl&gt; | freq &lt;dbl&gt; |\n",
       "|---|---|---|\n",
       "| normal      | 2733.9320 | 0.3532658 |\n",
       "| obese       | 2042.5459 | 0.2639281 |\n",
       "| overweight  | 2823.8141 | 0.3648799 |\n",
       "| underweight |  138.7313 | 0.0179262 |\n",
       "\n"
      ],
      "text/plain": [
       "  bmi_class   n         freq     \n",
       "1 normal      2733.9320 0.3532658\n",
       "2 obese       2042.5459 0.2639281\n",
       "3 overweight  2823.8141 0.3648799\n",
       "4 underweight  138.7313 0.0179262"
      ]
     },
     "metadata": {},
     "output_type": "display_data"
    },
    {
     "data": {
      "text/html": [
       "<strong>1.79%:</strong> 18.3951964029355"
      ],
      "text/latex": [
       "\\textbf{1.79\\textbackslash{}\\%:} 18.3951964029355"
      ],
      "text/markdown": [
       "**1.79%:** 18.3951964029355"
      ],
      "text/plain": [
       "  1.79% \n",
       "18.3952 "
      ]
     },
     "metadata": {},
     "output_type": "display_data"
    },
    {
     "data": {
      "text/html": [
       "23.6573330098191"
      ],
      "text/latex": [
       "23.6573330098191"
      ],
      "text/markdown": [
       "23.6573330098191"
      ],
      "text/plain": [
       "[1] 23.65733"
      ]
     },
     "metadata": {},
     "output_type": "display_data"
    },
    {
     "data": {
      "text/html": [
       "27.6687043163817"
      ],
      "text/latex": [
       "27.6687043163817"
      ],
      "text/markdown": [
       "27.6687043163817"
      ],
      "text/plain": [
       "[1] 27.6687"
      ]
     },
     "metadata": {},
     "output_type": "display_data"
    }
   ],
   "source": [
    "# combine all old\n",
    "\n",
    "all_o <- rbind(old_f, old_m)\n",
    "\n",
    "# combine all actual\n",
    "\n",
    "all_a <- rbind(actual_f, actual_m) %>% \n",
    "  mutate(bmi_class = case_when(bmi <= 18.5 ~ \"underweight\",\n",
    "                               bmi > 18.5 & bmi < 25 ~ \"normal\",\n",
    "                               bmi >= 25 & bmi < 30 ~ \"overweight\",\n",
    "                               bmi >= 30 ~ \"obese\",\n",
    "                               TRUE ~ \"NA\"))\n",
    "\n",
    "# proportions of actual\n",
    "\n",
    "prop_a <- all_a  %>% \n",
    "  count(bmi_class, wt = sample_weight) %>% \n",
    "  mutate(freq = n/sum(n))\n",
    "\n",
    "prop_a\n",
    "\n",
    "obese <- prop_a[which(prop_a$bmi_class == \"obese\"),]$freq\n",
    "over <- prop_a[which(prop_a$bmi_class == \"overweight\"),]$freq\n",
    "normal <- prop_a[which(prop_a$bmi_class == \"normal\"),]$freq\n",
    "under <- prop_a[which(prop_a$bmi_class == \"underweight\"),]$freq\n",
    "\n",
    "cut_1 <- wtd.quantile(all_o$bmi, probs = under, all_o$sample_weight)   \n",
    "cut_2 <- unname( wtd.quantile(all_o$bmi, probs = 1 - obese - over, all_o$sample_weight))\n",
    "cut_3 <- unname( wtd.quantile(all_o$bmi, probs = 1 - obese, all_o$sample_weight))\n",
    "\n",
    "cut_1\n",
    "cut_2\n",
    "cut_3\n",
    "\n",
    "# add alternative bmi categories to simulated\n",
    "\n",
    "all_o <- all_o %>% \n",
    "  mutate(bmi_class = case_when(bmi <= cut_1 ~ \"underweight\",\n",
    "                               bmi > cut_1 & bmi < cut_2 ~ \"normal\",\n",
    "                               bmi >= cut_2 & bmi < cut_3 ~ \"overweight\",\n",
    "                               bmi >= cut_3 ~ \"obese\",\n",
    "                               TRUE ~ \"NA\"))\n",
    "\n",
    "# combine all genders\n",
    "\n",
    "all <- rbind(all_o %>% mutate(type = \"1991\"), all_a %>% mutate(type = \"2019\")) %>% mutate(id = seq_len(n()))"
   ]
  },
  {
   "cell_type": "code",
   "execution_count": 19,
   "id": "df6ea203",
   "metadata": {},
   "outputs": [
    {
     "data": {
      "image/png": "[encoded data removed]",
      "text/plain": [
       "plot without title"
      ]
     },
     "metadata": {
      "image/png": {
       "height": 420,
       "width": 420
      }
     },
     "output_type": "display_data"
    }
   ],
   "source": [
    "ggplot(all, aes(x = intake, group = type, color = type)) + \n",
    "  geom_density(aes(weight = sample_weight), size = 3) +\n",
    "facet_grid(sex ~ .) +\n",
    "  labs(x = \"kcal/day\",\n",
    "       color = \"\",\n",
    "       title = \"Daily Intake\") +\n",
    "  theme_ipsum()"
   ]
  },
  {
   "cell_type": "code",
   "execution_count": 28,
   "id": "1c0e7e1d",
   "metadata": {},
   "outputs": [
    {
     "name": "stderr",
     "output_type": "stream",
     "text": [
      "`summarise()` has grouped output by 'bmi_class', 'type'. You can override using the `.groups` argument.\n",
      "\n"
     ]
    },
    {
     "data": {
      "text/html": [
       "<table class=\"dataframe\">\n",
       "<caption>A data.frame: 4 × 9</caption>\n",
       "<thead>\n",
       "\t<tr><th scope=col>bmi_class</th><th scope=col>1991_Female</th><th scope=col>1991_Male</th><th scope=col>2019_Female</th><th scope=col>2019_Male</th><th scope=col>diff_f</th><th scope=col>diff_m</th><th scope=col>perc_f</th><th scope=col>perc_m</th></tr>\n",
       "\t<tr><th scope=col>&lt;chr&gt;</th><th scope=col>&lt;dbl&gt;</th><th scope=col>&lt;dbl&gt;</th><th scope=col>&lt;dbl&gt;</th><th scope=col>&lt;dbl&gt;</th><th scope=col>&lt;dbl&gt;</th><th scope=col>&lt;dbl&gt;</th><th scope=col>&lt;dbl&gt;</th><th scope=col>&lt;dbl&gt;</th></tr>\n",
       "</thead>\n",
       "<tbody>\n",
       "\t<tr><td>normal     </td><td>2149.198</td><td>2617.730</td><td>2180.150</td><td>2722.828</td><td> 30.95248</td><td>105.09872</td><td>1.4401877</td><td> 4.014881</td></tr>\n",
       "\t<tr><td>obese      </td><td>2474.954</td><td>3263.481</td><td>2580.496</td><td>3452.858</td><td>105.54209</td><td>189.37701</td><td>4.2644067</td><td> 5.802915</td></tr>\n",
       "\t<tr><td>overweight </td><td>2262.937</td><td>2912.217</td><td>2328.541</td><td>3073.419</td><td> 65.60363</td><td>161.20210</td><td>2.8990475</td><td> 5.535374</td></tr>\n",
       "\t<tr><td>underweight</td><td>2006.666</td><td>2192.091</td><td>2017.484</td><td>2160.099</td><td> 10.81848</td><td>-31.99218</td><td>0.5391271</td><td>-1.459437</td></tr>\n",
       "</tbody>\n",
       "</table>\n"
      ],
      "text/latex": [
       "A data.frame: 4 × 9\n",
       "\\begin{tabular}{lllllllll}\n",
       " bmi\\_class & 1991\\_Female & 1991\\_Male & 2019\\_Female & 2019\\_Male & diff\\_f & diff\\_m & perc\\_f & perc\\_m\\\\\n",
       " <chr> & <dbl> & <dbl> & <dbl> & <dbl> & <dbl> & <dbl> & <dbl> & <dbl>\\\\\n",
       "\\hline\n",
       "\t normal      & 2149.198 & 2617.730 & 2180.150 & 2722.828 &  30.95248 & 105.09872 & 1.4401877 &  4.014881\\\\\n",
       "\t obese       & 2474.954 & 3263.481 & 2580.496 & 3452.858 & 105.54209 & 189.37701 & 4.2644067 &  5.802915\\\\\n",
       "\t overweight  & 2262.937 & 2912.217 & 2328.541 & 3073.419 &  65.60363 & 161.20210 & 2.8990475 &  5.535374\\\\\n",
       "\t underweight & 2006.666 & 2192.091 & 2017.484 & 2160.099 &  10.81848 & -31.99218 & 0.5391271 & -1.459437\\\\\n",
       "\\end{tabular}\n"
      ],
      "text/markdown": [
       "\n",
       "A data.frame: 4 × 9\n",
       "\n",
       "| bmi_class &lt;chr&gt; | 1991_Female &lt;dbl&gt; | 1991_Male &lt;dbl&gt; | 2019_Female &lt;dbl&gt; | 2019_Male &lt;dbl&gt; | diff_f &lt;dbl&gt; | diff_m &lt;dbl&gt; | perc_f &lt;dbl&gt; | perc_m &lt;dbl&gt; |\n",
       "|---|---|---|---|---|---|---|---|---|\n",
       "| normal      | 2149.198 | 2617.730 | 2180.150 | 2722.828 |  30.95248 | 105.09872 | 1.4401877 |  4.014881 |\n",
       "| obese       | 2474.954 | 3263.481 | 2580.496 | 3452.858 | 105.54209 | 189.37701 | 4.2644067 |  5.802915 |\n",
       "| overweight  | 2262.937 | 2912.217 | 2328.541 | 3073.419 |  65.60363 | 161.20210 | 2.8990475 |  5.535374 |\n",
       "| underweight | 2006.666 | 2192.091 | 2017.484 | 2160.099 |  10.81848 | -31.99218 | 0.5391271 | -1.459437 |\n",
       "\n"
      ],
      "text/plain": [
       "  bmi_class   1991_Female 1991_Male 2019_Female 2019_Male diff_f    diff_m   \n",
       "1 normal      2149.198    2617.730  2180.150    2722.828   30.95248 105.09872\n",
       "2 obese       2474.954    3263.481  2580.496    3452.858  105.54209 189.37701\n",
       "3 overweight  2262.937    2912.217  2328.541    3073.419   65.60363 161.20210\n",
       "4 underweight 2006.666    2192.091  2017.484    2160.099   10.81848 -31.99218\n",
       "  perc_f    perc_m   \n",
       "1 1.4401877  4.014881\n",
       "2 4.2644067  5.802915\n",
       "3 2.8990475  5.535374\n",
       "4 0.5391271 -1.459437"
      ]
     },
     "metadata": {},
     "output_type": "display_data"
    }
   ],
   "source": [
    "# Mean daily intake \n",
    "\n",
    "all %>% \n",
    "  group_by(bmi_class, type, sex) %>% \n",
    "  summarise(intakem = wtd.mean(intake, weight = sample_weight)) %>% \n",
    "  dcast(., bmi_class ~ type + sex, value.var = \"intakem\") %>% \n",
    "  mutate(diff_f = `2019_Female` - `1991_Female`,\n",
    "         diff_m = `2019_Male` - `1991_Male`,\n",
    "         perc_f = diff_f/`1991_Female`*100,\n",
    "         perc_m = diff_m/`1991_Male`*100)"
   ]
  },
  {
   "cell_type": "code",
   "execution_count": 68,
   "id": "48099925",
   "metadata": {},
   "outputs": [],
   "source": [
    "dclus2 <- svydesign(id=~id, weights = ~sample_weight, data=all)\n",
    "\n",
    "funDiff <- function(bmi_class_c, sex_c){\n",
    "    sub <- subset(dclus2, sex == sex_c & bmi_class == bmi_class_c)\n",
    "    tt<-svyttest(intake~type, sub)\n",
    "    return(data.frame(sex = sex_c, bmi_class = bmi_class_c, confint(tt, level=0.95)))\n",
    "    }"
   ]
  },
  {
   "cell_type": "code",
   "execution_count": 69,
   "id": "912cac4b",
   "metadata": {},
   "outputs": [
    {
     "data": {
      "text/html": [
       "<table class=\"dataframe\">\n",
       "<caption>A data.frame: 8 × 4</caption>\n",
       "<thead>\n",
       "\t<tr><th></th><th scope=col>sex</th><th scope=col>bmi_class</th><th scope=col>X2.5..</th><th scope=col>X97.5..</th></tr>\n",
       "\t<tr><th></th><th scope=col>&lt;fct&gt;</th><th scope=col>&lt;fct&gt;</th><th scope=col>&lt;dbl&gt;</th><th scope=col>&lt;dbl&gt;</th></tr>\n",
       "</thead>\n",
       "<tbody>\n",
       "\t<tr><th scope=row>type2019...1</th><td>Female</td><td>normal     </td><td>  25.044671</td><td> 36.86030</td></tr>\n",
       "\t<tr><th scope=row>type2019...2</th><td>Female</td><td>overweight </td><td>  58.526267</td><td> 72.68099</td></tr>\n",
       "\t<tr><th scope=row>type2019...3</th><td>Female</td><td>obese      </td><td>  91.001673</td><td>120.08251</td></tr>\n",
       "\t<tr><th scope=row>type2019...4</th><td>Female</td><td>underweight</td><td>  -7.401115</td><td> 29.03808</td></tr>\n",
       "\t<tr><th scope=row>type2019...5</th><td>Male  </td><td>normal     </td><td>  85.283010</td><td>124.91444</td></tr>\n",
       "\t<tr><th scope=row>type2019...6</th><td>Male  </td><td>overweight </td><td> 145.876389</td><td>176.52781</td></tr>\n",
       "\t<tr><th scope=row>type2019...7</th><td>Male  </td><td>obese      </td><td> 167.676238</td><td>211.07778</td></tr>\n",
       "\t<tr><th scope=row>type2019...8</th><td>Male  </td><td>underweight</td><td>-127.535248</td><td> 63.55088</td></tr>\n",
       "</tbody>\n",
       "</table>\n"
      ],
      "text/latex": [
       "A data.frame: 8 × 4\n",
       "\\begin{tabular}{r|llll}\n",
       "  & sex & bmi\\_class & X2.5.. & X97.5..\\\\\n",
       "  & <fct> & <fct> & <dbl> & <dbl>\\\\\n",
       "\\hline\n",
       "\ttype2019...1 & Female & normal      &   25.044671 &  36.86030\\\\\n",
       "\ttype2019...2 & Female & overweight  &   58.526267 &  72.68099\\\\\n",
       "\ttype2019...3 & Female & obese       &   91.001673 & 120.08251\\\\\n",
       "\ttype2019...4 & Female & underweight &   -7.401115 &  29.03808\\\\\n",
       "\ttype2019...5 & Male   & normal      &   85.283010 & 124.91444\\\\\n",
       "\ttype2019...6 & Male   & overweight  &  145.876389 & 176.52781\\\\\n",
       "\ttype2019...7 & Male   & obese       &  167.676238 & 211.07778\\\\\n",
       "\ttype2019...8 & Male   & underweight & -127.535248 &  63.55088\\\\\n",
       "\\end{tabular}\n"
      ],
      "text/markdown": [
       "\n",
       "A data.frame: 8 × 4\n",
       "\n",
       "| <!--/--> | sex &lt;fct&gt; | bmi_class &lt;fct&gt; | X2.5.. &lt;dbl&gt; | X97.5.. &lt;dbl&gt; |\n",
       "|---|---|---|---|---|\n",
       "| type2019...1 | Female | normal      |   25.044671 |  36.86030 |\n",
       "| type2019...2 | Female | overweight  |   58.526267 |  72.68099 |\n",
       "| type2019...3 | Female | obese       |   91.001673 | 120.08251 |\n",
       "| type2019...4 | Female | underweight |   -7.401115 |  29.03808 |\n",
       "| type2019...5 | Male   | normal      |   85.283010 | 124.91444 |\n",
       "| type2019...6 | Male   | overweight  |  145.876389 | 176.52781 |\n",
       "| type2019...7 | Male   | obese       |  167.676238 | 211.07778 |\n",
       "| type2019...8 | Male   | underweight | -127.535248 |  63.55088 |\n",
       "\n"
      ],
      "text/plain": [
       "             sex    bmi_class   X2.5..      X97.5..  \n",
       "type2019...1 Female normal        25.044671  36.86030\n",
       "type2019...2 Female overweight    58.526267  72.68099\n",
       "type2019...3 Female obese         91.001673 120.08251\n",
       "type2019...4 Female underweight   -7.401115  29.03808\n",
       "type2019...5 Male   normal        85.283010 124.91444\n",
       "type2019...6 Male   overweight   145.876389 176.52781\n",
       "type2019...7 Male   obese        167.676238 211.07778\n",
       "type2019...8 Male   underweight -127.535248  63.55088"
      ]
     },
     "metadata": {},
     "output_type": "display_data"
    }
   ],
   "source": [
    "list <- expand.grid(sex_c = unique(all$sex), bmi_class_c = unique(all$bmi_class))\n",
    "\n",
    "pmap_dfr(list, funDiff)  %>% arrange(sex)"
   ]
  },
  {
   "cell_type": "code",
   "execution_count": 67,
   "id": "6e15ceb3",
   "metadata": {},
   "outputs": [
    {
     "data": {
      "text/html": [
       "<table class=\"dataframe\">\n",
       "<caption>A data.frame: 8 × 2</caption>\n",
       "<thead>\n",
       "\t<tr><th scope=col>sex_c</th><th scope=col>bmi_class_c</th></tr>\n",
       "\t<tr><th scope=col>&lt;fct&gt;</th><th scope=col>&lt;fct&gt;</th></tr>\n",
       "</thead>\n",
       "<tbody>\n",
       "\t<tr><td>Female</td><td>normal     </td></tr>\n",
       "\t<tr><td>Male  </td><td>normal     </td></tr>\n",
       "\t<tr><td>Female</td><td>overweight </td></tr>\n",
       "\t<tr><td>Male  </td><td>overweight </td></tr>\n",
       "\t<tr><td>Female</td><td>obese      </td></tr>\n",
       "\t<tr><td>Male  </td><td>obese      </td></tr>\n",
       "\t<tr><td>Female</td><td>underweight</td></tr>\n",
       "\t<tr><td>Male  </td><td>underweight</td></tr>\n",
       "</tbody>\n",
       "</table>\n"
      ],
      "text/latex": [
       "A data.frame: 8 × 2\n",
       "\\begin{tabular}{ll}\n",
       " sex\\_c & bmi\\_class\\_c\\\\\n",
       " <fct> & <fct>\\\\\n",
       "\\hline\n",
       "\t Female & normal     \\\\\n",
       "\t Male   & normal     \\\\\n",
       "\t Female & overweight \\\\\n",
       "\t Male   & overweight \\\\\n",
       "\t Female & obese      \\\\\n",
       "\t Male   & obese      \\\\\n",
       "\t Female & underweight\\\\\n",
       "\t Male   & underweight\\\\\n",
       "\\end{tabular}\n"
      ],
      "text/markdown": [
       "\n",
       "A data.frame: 8 × 2\n",
       "\n",
       "| sex_c &lt;fct&gt; | bmi_class_c &lt;fct&gt; |\n",
       "|---|---|\n",
       "| Female | normal      |\n",
       "| Male   | normal      |\n",
       "| Female | overweight  |\n",
       "| Male   | overweight  |\n",
       "| Female | obese       |\n",
       "| Male   | obese       |\n",
       "| Female | underweight |\n",
       "| Male   | underweight |\n",
       "\n"
      ],
      "text/plain": [
       "  sex_c  bmi_class_c\n",
       "1 Female normal     \n",
       "2 Male   normal     \n",
       "3 Female overweight \n",
       "4 Male   overweight \n",
       "5 Female obese      \n",
       "6 Male   obese      \n",
       "7 Female underweight\n",
       "8 Male   underweight"
      ]
     },
     "metadata": {},
     "output_type": "display_data"
    }
   ],
   "source": [
    "list"
   ]
  },
  {
   "cell_type": "code",
   "execution_count": 71,
   "id": "904681a5",
   "metadata": {},
   "outputs": [
    {
     "name": "stderr",
     "output_type": "stream",
     "text": [
      "`summarise()` has grouped output by 'bmi_class', 'type'. You can override using the `.groups` argument.\n",
      "\n"
     ]
    },
    {
     "data": {
      "text/html": [
       "<table class=\"dataframe\">\n",
       "<caption>A data.frame: 4 × 9</caption>\n",
       "<thead>\n",
       "\t<tr><th scope=col>bmi_class</th><th scope=col>1991_Female</th><th scope=col>1991_Male</th><th scope=col>2019_Female</th><th scope=col>2019_Male</th><th scope=col>diff_f</th><th scope=col>diff_m</th><th scope=col>perc_f</th><th scope=col>perc_m</th></tr>\n",
       "\t<tr><th scope=col>&lt;chr&gt;</th><th scope=col>&lt;dbl&gt;</th><th scope=col>&lt;dbl&gt;</th><th scope=col>&lt;dbl&gt;</th><th scope=col>&lt;dbl&gt;</th><th scope=col>&lt;dbl&gt;</th><th scope=col>&lt;dbl&gt;</th><th scope=col>&lt;dbl&gt;</th><th scope=col>&lt;dbl&gt;</th></tr>\n",
       "</thead>\n",
       "<tbody>\n",
       "\t<tr><td>normal     </td><td>56.96543</td><td>66.91151</td><td>59.41407</td><td> 70.79330</td><td>2.4486342</td><td> 3.881799</td><td>4.298456</td><td> 5.801392</td></tr>\n",
       "\t<tr><td>obese      </td><td>81.55080</td><td>92.63275</td><td>89.06221</td><td>101.17186</td><td>7.5114114</td><td> 8.539110</td><td>9.210714</td><td> 9.218241</td></tr>\n",
       "\t<tr><td>overweight </td><td>65.90790</td><td>77.92117</td><td>70.89075</td><td> 84.41079</td><td>4.9828572</td><td> 6.489618</td><td>7.560334</td><td> 8.328439</td></tr>\n",
       "\t<tr><td>underweight</td><td>45.23494</td><td>52.30571</td><td>46.15646</td><td> 51.29119</td><td>0.9215192</td><td>-1.014527</td><td>2.037185</td><td>-1.939611</td></tr>\n",
       "</tbody>\n",
       "</table>\n"
      ],
      "text/latex": [
       "A data.frame: 4 × 9\n",
       "\\begin{tabular}{lllllllll}\n",
       " bmi\\_class & 1991\\_Female & 1991\\_Male & 2019\\_Female & 2019\\_Male & diff\\_f & diff\\_m & perc\\_f & perc\\_m\\\\\n",
       " <chr> & <dbl> & <dbl> & <dbl> & <dbl> & <dbl> & <dbl> & <dbl> & <dbl>\\\\\n",
       "\\hline\n",
       "\t normal      & 56.96543 & 66.91151 & 59.41407 &  70.79330 & 2.4486342 &  3.881799 & 4.298456 &  5.801392\\\\\n",
       "\t obese       & 81.55080 & 92.63275 & 89.06221 & 101.17186 & 7.5114114 &  8.539110 & 9.210714 &  9.218241\\\\\n",
       "\t overweight  & 65.90790 & 77.92117 & 70.89075 &  84.41079 & 4.9828572 &  6.489618 & 7.560334 &  8.328439\\\\\n",
       "\t underweight & 45.23494 & 52.30571 & 46.15646 &  51.29119 & 0.9215192 & -1.014527 & 2.037185 & -1.939611\\\\\n",
       "\\end{tabular}\n"
      ],
      "text/markdown": [
       "\n",
       "A data.frame: 4 × 9\n",
       "\n",
       "| bmi_class &lt;chr&gt; | 1991_Female &lt;dbl&gt; | 1991_Male &lt;dbl&gt; | 2019_Female &lt;dbl&gt; | 2019_Male &lt;dbl&gt; | diff_f &lt;dbl&gt; | diff_m &lt;dbl&gt; | perc_f &lt;dbl&gt; | perc_m &lt;dbl&gt; |\n",
       "|---|---|---|---|---|---|---|---|---|\n",
       "| normal      | 56.96543 | 66.91151 | 59.41407 |  70.79330 | 2.4486342 |  3.881799 | 4.298456 |  5.801392 |\n",
       "| obese       | 81.55080 | 92.63275 | 89.06221 | 101.17186 | 7.5114114 |  8.539110 | 9.210714 |  9.218241 |\n",
       "| overweight  | 65.90790 | 77.92117 | 70.89075 |  84.41079 | 4.9828572 |  6.489618 | 7.560334 |  8.328439 |\n",
       "| underweight | 45.23494 | 52.30571 | 46.15646 |  51.29119 | 0.9215192 | -1.014527 | 2.037185 | -1.939611 |\n",
       "\n"
      ],
      "text/plain": [
       "  bmi_class   1991_Female 1991_Male 2019_Female 2019_Male diff_f    diff_m   \n",
       "1 normal      56.96543    66.91151  59.41407     70.79330 2.4486342  3.881799\n",
       "2 obese       81.55080    92.63275  89.06221    101.17186 7.5114114  8.539110\n",
       "3 overweight  65.90790    77.92117  70.89075     84.41079 4.9828572  6.489618\n",
       "4 underweight 45.23494    52.30571  46.15646     51.29119 0.9215192 -1.014527\n",
       "  perc_f   perc_m   \n",
       "1 4.298456  5.801392\n",
       "2 9.210714  9.218241\n",
       "3 7.560334  8.328439\n",
       "4 2.037185 -1.939611"
      ]
     },
     "metadata": {},
     "output_type": "display_data"
    }
   ],
   "source": [
    "# Mean body weight\n",
    "\n",
    "all %>% \n",
    "  group_by(bmi_class, type, sex) %>% \n",
    "  summarise(weightm = wtd.mean(weight, weight = sample_weight)) %>% \n",
    "  dcast(., bmi_class ~ type + sex, value.var = \"weightm\") %>% \n",
    "  mutate(diff_f = `2019_Female` - `1991_Female`,\n",
    "         diff_m = `2019_Male` - `1991_Male`,\n",
    "         perc_f = diff_f/`1991_Female`*100,\n",
    "         perc_m = diff_m/`1991_Male`*100)"
   ]
  },
  {
   "cell_type": "code",
   "execution_count": null,
   "id": "a565c1de",
   "metadata": {},
   "outputs": [],
   "source": []
  }
 ],
 "metadata": {
  "kernelspec": {
   "display_name": "R",
   "language": "R",
   "name": "ir"
  },
  "language_info": {
   "codemirror_mode": "r",
   "file_extension": ".r",
   "mimetype": "text/x-r-source",
   "name": "R",
   "pygments_lexer": "r",
   "version": "4.1.2"
  }
 },
 "nbformat": 4,
 "nbformat_minor": 5
}
