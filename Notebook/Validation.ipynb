{
 "cells": [
  {
   "cell_type": "code",
   "execution_count": 1,
   "id": "70d47a24",
   "metadata": {},
   "outputs": [
    {
     "name": "stderr",
     "output_type": "stream",
     "text": [
      "-- \u001b[1mAttaching packages\u001b[22m ------------------------------------------------------------------------------- tidyverse 1.3.1 --\n",
      "\n",
      "\u001b[32mv\u001b[39m \u001b[34mggplot2\u001b[39m 3.3.5     \u001b[32mv\u001b[39m \u001b[34mpurrr  \u001b[39m 0.3.4\n",
      "\u001b[32mv\u001b[39m \u001b[34mtibble \u001b[39m 3.1.6     \u001b[32mv\u001b[39m \u001b[34mdplyr  \u001b[39m 1.0.7\n",
      "\u001b[32mv\u001b[39m \u001b[34mtidyr  \u001b[39m 1.1.4     \u001b[32mv\u001b[39m \u001b[34mstringr\u001b[39m 1.4.0\n",
      "\u001b[32mv\u001b[39m \u001b[34mreadr  \u001b[39m 2.1.1     \u001b[32mv\u001b[39m \u001b[34mforcats\u001b[39m 0.5.1\n",
      "\n",
      "-- \u001b[1mConflicts\u001b[22m ---------------------------------------------------------------------------------- tidyverse_conflicts() --\n",
      "\u001b[31mx\u001b[39m \u001b[34mdplyr\u001b[39m::\u001b[32mfilter()\u001b[39m masks \u001b[34mstats\u001b[39m::filter()\n",
      "\u001b[31mx\u001b[39m \u001b[34mdplyr\u001b[39m::\u001b[32mlag()\u001b[39m    masks \u001b[34mstats\u001b[39m::lag()\n",
      "\n",
      "Warning message:\n",
      "\"package 'hrbrthemes' was built under R version 4.1.3\"\n"
     ]
    }
   ],
   "source": [
    "library(tidyverse)\n",
    "library(hrbrthemes)"
   ]
  },
  {
   "cell_type": "code",
   "execution_count": 2,
   "id": "489bfe7e",
   "metadata": {},
   "outputs": [
    {
     "name": "stderr",
     "output_type": "stream",
     "text": [
      "\u001b[1mRows: \u001b[22m\u001b[34m7620\u001b[39m \u001b[1mColumns: \u001b[22m\u001b[34m39\u001b[39m\n",
      "\n",
      "\u001b[36m--\u001b[39m \u001b[1mColumn specification\u001b[22m \u001b[36m------------------------------------------------------------------------------------------------\u001b[39m\n",
      "\u001b[1mDelimiter:\u001b[22m \",\"\n",
      "\u001b[31mchr\u001b[39m  (7): sex, BMI_class, Sex, Age_group, Ethnicity, Sex_letter, final_BMI_c...\n",
      "\u001b[32mdbl\u001b[39m (31): X, time, f, FFM, finalWeight, startWeight, height, age, baseIntake...\n",
      "\u001b[33mlgl\u001b[39m  (1): thisMin\n",
      "\n",
      "\n",
      "\u001b[36mi\u001b[39m Use \u001b[30m\u001b[47m\u001b[30m\u001b[47m`spec()`\u001b[47m\u001b[30m\u001b[49m\u001b[39m to retrieve the full column specification for this data.\n",
      "\u001b[36mi\u001b[39m Specify the column types or set \u001b[30m\u001b[47m\u001b[30m\u001b[47m`show_col_types = FALSE`\u001b[47m\u001b[30m\u001b[49m\u001b[39m to quiet this message.\n",
      "\n"
     ]
    }
   ],
   "source": [
    "# read file and add under weight\n",
    "\n",
    "under <- read.csv(\"C:\\\\Users\\\\Elena.Mariani\\\\Documents\\\\Projects\\\\ahl_weight_loss_modelling\\\\Data\\\\calorie_deficit_scenarios_w_imd.csv\", sep = \",\", fileEncoding=\"UTF-8-BOM\") %>% \n",
    "  filter(BMI_class == \"underweight\") %>% \n",
    "  mutate(finalWeight = Wt_est,\n",
    "         startWeight = Wt_est,\n",
    "         height = Ht_est,\n",
    "         age = Age_est,\n",
    "         Sex_letter = ifelse(Sex == \"female\", \"F\", \"M\"),\n",
    "         sex = Sex_letter,\n",
    "         baseIntake = ifelse(sex == \"M\", -.0971*(Wt_est^2) + 40.853*Wt_est + 323.59, .0278*(Wt_est^2) + 9.2893*Wt_est + 1528.9),\n",
    "         newIntake = baseIntake,\n",
    "         TEE_final = baseIntake,\n",
    "         weight_final = Wt_est,\n",
    "         intake_final = newIntake,\n",
    "         bmi_final = BMI_est,\n",
    "         value = 0,\n",
    "         target = Wt_est,\n",
    "         calRed = 0)\n",
    "\n",
    "full <- plyr::rbind.fill(under, read_csv(\"C:\\\\Users\\\\Elena.Mariani\\\\Documents\\\\Projects\\\\ahl_weight_loss_modelling\\\\Output\\\\hse_full_weight_loss.csv\")) %>% \n",
    "  mutate(BMI_class = case_when(BMI_est <= 18.5 ~ \"underweight\",\n",
    "                               BMI_est > 18.5 & BMI_est < 25 ~ \"normal\",\n",
    "                               BMI_est >= 25 & BMI_est < 30 ~ \"overweight\",\n",
    "                               BMI_est >= 30 ~ \"obese\",\n",
    "                               TRUE ~ \"NA\")) %>% \n",
    "  mutate(final_BMI_class = case_when(bmi_final <= 18.5 ~ \"underweight\",\n",
    "                                     bmi_final > 18.5 & bmi_final < 25 ~ \"normal\",\n",
    "                                     bmi_final >= 25 & bmi_final < 30 ~ \"overweight\",\n",
    "                                     bmi_final >= 30 ~ \"obese\",\n",
    "                                     TRUE ~ \"NA\"))"
   ]
  },
  {
   "cell_type": "code",
   "execution_count": 3,
   "id": "0714fb43",
   "metadata": {},
   "outputs": [
    {
     "name": "stderr",
     "output_type": "stream",
     "text": [
      "\u001b[1mRows: \u001b[22m\u001b[34m20\u001b[39m \u001b[1mColumns: \u001b[22m\u001b[34m9\u001b[39m\n",
      "\n",
      "\u001b[36m--\u001b[39m \u001b[1mColumn specification\u001b[22m \u001b[36m------------------------------------------------------------------------------------------------\u001b[39m\n",
      "\u001b[1mDelimiter:\u001b[22m \",\"\n",
      "\u001b[31mchr\u001b[39m (1): sex\n",
      "\u001b[32mdbl\u001b[39m (8): ID, weight, height, age, weight_tgt, days, Hall_TEE0, Hall_TEE1\n",
      "\n",
      "\n",
      "\u001b[36mi\u001b[39m Use \u001b[30m\u001b[47m\u001b[30m\u001b[47m`spec()`\u001b[47m\u001b[30m\u001b[49m\u001b[39m to retrieve the full column specification for this data.\n",
      "\u001b[36mi\u001b[39m Specify the column types or set \u001b[30m\u001b[47m\u001b[30m\u001b[47m`show_col_types = FALSE`\u001b[47m\u001b[30m\u001b[49m\u001b[39m to quiet this message.\n",
      "\n"
     ]
    }
   ],
   "source": [
    "# read validation file\n",
    "\n",
    "valid <- read_csv(\"C:\\\\Users\\\\Elena.Mariani\\\\Documents\\\\Projects\\\\ahl_weight_loss_modelling\\\\Data\\\\validation.csv\")  %>% rename(X = ID)"
   ]
  },
  {
   "cell_type": "code",
   "execution_count": 4,
   "id": "89f82827",
   "metadata": {},
   "outputs": [],
   "source": [
    "# merge files\n",
    "merged <- merge(valid, full, by = c(\"X\"))"
   ]
  },
  {
   "cell_type": "code",
   "execution_count": 5,
   "id": "2ff7a336",
   "metadata": {},
   "outputs": [
    {
     "data": {
      "text/html": [
       "<table class=\"dataframe\">\n",
       "<caption>A data.frame: 6 × 47</caption>\n",
       "<thead>\n",
       "\t<tr><th></th><th scope=col>X</th><th scope=col>weight</th><th scope=col>sex.x</th><th scope=col>height.x</th><th scope=col>age.x</th><th scope=col>weight_tgt</th><th scope=col>days</th><th scope=col>Hall_TEE0</th><th scope=col>Hall_TEE1</th><th scope=col>Sex</th><th scope=col>...</th><th scope=col>RMR</th><th scope=col>PA</th><th scope=col>SPA</th><th scope=col>DIT</th><th scope=col>EExp</th><th scope=col>diff</th><th scope=col>thisMin</th><th scope=col>cum</th><th scope=col>day_final</th><th scope=col>final_BMI_class</th></tr>\n",
       "\t<tr><th></th><th scope=col>&lt;dbl&gt;</th><th scope=col>&lt;dbl&gt;</th><th scope=col>&lt;chr&gt;</th><th scope=col>&lt;dbl&gt;</th><th scope=col>&lt;dbl&gt;</th><th scope=col>&lt;dbl&gt;</th><th scope=col>&lt;dbl&gt;</th><th scope=col>&lt;dbl&gt;</th><th scope=col>&lt;dbl&gt;</th><th scope=col>&lt;chr&gt;</th><th scope=col>...</th><th scope=col>&lt;dbl&gt;</th><th scope=col>&lt;dbl&gt;</th><th scope=col>&lt;dbl&gt;</th><th scope=col>&lt;dbl&gt;</th><th scope=col>&lt;dbl&gt;</th><th scope=col>&lt;dbl&gt;</th><th scope=col>&lt;lgl&gt;</th><th scope=col>&lt;dbl&gt;</th><th scope=col>&lt;dbl&gt;</th><th scope=col>&lt;chr&gt;</th></tr>\n",
       "</thead>\n",
       "<tbody>\n",
       "\t<tr><th scope=row>1</th><td> 549</td><td>64.0</td><td>M</td><td>170.18</td><td>77</td><td>60.27470</td><td>456.2500</td><td>2127</td><td>1993</td><td>female</td><td>...</td><td>1130.420</td><td>101.63758</td><td>496.6485</td><td>140.6919</td><td>1869.398</td><td> 6.493749</td><td>FALSE</td><td>1</td><td>547.5000</td><td>normal    </td></tr>\n",
       "\t<tr><th scope=row>2</th><td>1001</td><td>67.4</td><td>M</td><td>167.00</td><td>47</td><td>63.47680</td><td>547.5000</td><td>2385</td><td>2245</td><td>male  </td><td>...</td><td>1462.473</td><td>  0.00000</td><td>527.6384</td><td>161.9544</td><td>2152.065</td><td> 7.325972</td><td>FALSE</td><td>1</td><td>547.5000</td><td>normal    </td></tr>\n",
       "\t<tr><th scope=row>3</th><td>1064</td><td>72.5</td><td>M</td><td>173.80</td><td>37</td><td>68.27994</td><td>577.9167</td><td>2614</td><td>2471</td><td>female</td><td>...</td><td>1427.339</td><td>  0.00000</td><td>510.7487</td><td>158.0135</td><td>2096.101</td><td>10.745891</td><td>FALSE</td><td>1</td><td>912.5000</td><td>obese     </td></tr>\n",
       "\t<tr><th scope=row>4</th><td>1780</td><td>54.8</td><td>F</td><td>157.00</td><td>42</td><td>52.43279</td><td>517.0833</td><td>1858</td><td>1768</td><td>male  </td><td>...</td><td>1863.431</td><td> 92.97364</td><td>729.3130</td><td>218.5987</td><td>2904.317</td><td>10.333031</td><td>FALSE</td><td>1</td><td>790.8333</td><td>overweight</td></tr>\n",
       "\t<tr><th scope=row>5</th><td>2740</td><td>70.2</td><td>F</td><td>160.80</td><td>52</td><td>64.88181</td><td>699.5833</td><td>2063</td><td>1923</td><td>male  </td><td>...</td><td>1465.169</td><td>246.77502</td><td>607.4642</td><td>188.6604</td><td>2508.069</td><td> 7.403925</td><td>FALSE</td><td>1</td><td>608.3333</td><td>normal    </td></tr>\n",
       "\t<tr><th scope=row>6</th><td>3746</td><td>68.7</td><td>F</td><td>164.40</td><td>67</td><td>63.49544</td><td>669.1667</td><td>1957</td><td>1803</td><td>female</td><td>...</td><td>1240.683</td><td> 93.44097</td><td>549.7173</td><td>153.4244</td><td>2037.266</td><td> 8.391991</td><td>FALSE</td><td>1</td><td>608.3333</td><td>normal    </td></tr>\n",
       "</tbody>\n",
       "</table>\n"
      ],
      "text/latex": [
       "A data.frame: 6 × 47\n",
       "\\begin{tabular}{r|lllllllllllllllllllll}\n",
       "  & X & weight & sex.x & height.x & age.x & weight\\_tgt & days & Hall\\_TEE0 & Hall\\_TEE1 & Sex & ... & RMR & PA & SPA & DIT & EExp & diff & thisMin & cum & day\\_final & final\\_BMI\\_class\\\\\n",
       "  & <dbl> & <dbl> & <chr> & <dbl> & <dbl> & <dbl> & <dbl> & <dbl> & <dbl> & <chr> & ... & <dbl> & <dbl> & <dbl> & <dbl> & <dbl> & <dbl> & <lgl> & <dbl> & <dbl> & <chr>\\\\\n",
       "\\hline\n",
       "\t1 &  549 & 64.0 & M & 170.18 & 77 & 60.27470 & 456.2500 & 2127 & 1993 & female & ... & 1130.420 & 101.63758 & 496.6485 & 140.6919 & 1869.398 &  6.493749 & FALSE & 1 & 547.5000 & normal    \\\\\n",
       "\t2 & 1001 & 67.4 & M & 167.00 & 47 & 63.47680 & 547.5000 & 2385 & 2245 & male   & ... & 1462.473 &   0.00000 & 527.6384 & 161.9544 & 2152.065 &  7.325972 & FALSE & 1 & 547.5000 & normal    \\\\\n",
       "\t3 & 1064 & 72.5 & M & 173.80 & 37 & 68.27994 & 577.9167 & 2614 & 2471 & female & ... & 1427.339 &   0.00000 & 510.7487 & 158.0135 & 2096.101 & 10.745891 & FALSE & 1 & 912.5000 & obese     \\\\\n",
       "\t4 & 1780 & 54.8 & F & 157.00 & 42 & 52.43279 & 517.0833 & 1858 & 1768 & male   & ... & 1863.431 &  92.97364 & 729.3130 & 218.5987 & 2904.317 & 10.333031 & FALSE & 1 & 790.8333 & overweight\\\\\n",
       "\t5 & 2740 & 70.2 & F & 160.80 & 52 & 64.88181 & 699.5833 & 2063 & 1923 & male   & ... & 1465.169 & 246.77502 & 607.4642 & 188.6604 & 2508.069 &  7.403925 & FALSE & 1 & 608.3333 & normal    \\\\\n",
       "\t6 & 3746 & 68.7 & F & 164.40 & 67 & 63.49544 & 669.1667 & 1957 & 1803 & female & ... & 1240.683 &  93.44097 & 549.7173 & 153.4244 & 2037.266 &  8.391991 & FALSE & 1 & 608.3333 & normal    \\\\\n",
       "\\end{tabular}\n"
      ],
      "text/markdown": [
       "\n",
       "A data.frame: 6 × 47\n",
       "\n",
       "| <!--/--> | X &lt;dbl&gt; | weight &lt;dbl&gt; | sex.x &lt;chr&gt; | height.x &lt;dbl&gt; | age.x &lt;dbl&gt; | weight_tgt &lt;dbl&gt; | days &lt;dbl&gt; | Hall_TEE0 &lt;dbl&gt; | Hall_TEE1 &lt;dbl&gt; | Sex &lt;chr&gt; | ... ... | RMR &lt;dbl&gt; | PA &lt;dbl&gt; | SPA &lt;dbl&gt; | DIT &lt;dbl&gt; | EExp &lt;dbl&gt; | diff &lt;dbl&gt; | thisMin &lt;lgl&gt; | cum &lt;dbl&gt; | day_final &lt;dbl&gt; | final_BMI_class &lt;chr&gt; |\n",
       "|---|---|---|---|---|---|---|---|---|---|---|---|---|---|---|---|---|---|---|---|---|---|\n",
       "| 1 |  549 | 64.0 | M | 170.18 | 77 | 60.27470 | 456.2500 | 2127 | 1993 | female | ... | 1130.420 | 101.63758 | 496.6485 | 140.6919 | 1869.398 |  6.493749 | FALSE | 1 | 547.5000 | normal     |\n",
       "| 2 | 1001 | 67.4 | M | 167.00 | 47 | 63.47680 | 547.5000 | 2385 | 2245 | male   | ... | 1462.473 |   0.00000 | 527.6384 | 161.9544 | 2152.065 |  7.325972 | FALSE | 1 | 547.5000 | normal     |\n",
       "| 3 | 1064 | 72.5 | M | 173.80 | 37 | 68.27994 | 577.9167 | 2614 | 2471 | female | ... | 1427.339 |   0.00000 | 510.7487 | 158.0135 | 2096.101 | 10.745891 | FALSE | 1 | 912.5000 | obese      |\n",
       "| 4 | 1780 | 54.8 | F | 157.00 | 42 | 52.43279 | 517.0833 | 1858 | 1768 | male   | ... | 1863.431 |  92.97364 | 729.3130 | 218.5987 | 2904.317 | 10.333031 | FALSE | 1 | 790.8333 | overweight |\n",
       "| 5 | 2740 | 70.2 | F | 160.80 | 52 | 64.88181 | 699.5833 | 2063 | 1923 | male   | ... | 1465.169 | 246.77502 | 607.4642 | 188.6604 | 2508.069 |  7.403925 | FALSE | 1 | 608.3333 | normal     |\n",
       "| 6 | 3746 | 68.7 | F | 164.40 | 67 | 63.49544 | 669.1667 | 1957 | 1803 | female | ... | 1240.683 |  93.44097 | 549.7173 | 153.4244 | 2037.266 |  8.391991 | FALSE | 1 | 608.3333 | normal     |\n",
       "\n"
      ],
      "text/plain": [
       "  X    weight sex.x height.x age.x weight_tgt days     Hall_TEE0 Hall_TEE1\n",
       "1  549 64.0   M     170.18   77    60.27470   456.2500 2127      1993     \n",
       "2 1001 67.4   M     167.00   47    63.47680   547.5000 2385      2245     \n",
       "3 1064 72.5   M     173.80   37    68.27994   577.9167 2614      2471     \n",
       "4 1780 54.8   F     157.00   42    52.43279   517.0833 1858      1768     \n",
       "5 2740 70.2   F     160.80   52    64.88181   699.5833 2063      1923     \n",
       "6 3746 68.7   F     164.40   67    63.49544   669.1667 1957      1803     \n",
       "  Sex    ... RMR      PA        SPA      DIT      EExp     diff      thisMin\n",
       "1 female ... 1130.420 101.63758 496.6485 140.6919 1869.398  6.493749 FALSE  \n",
       "2 male   ... 1462.473   0.00000 527.6384 161.9544 2152.065  7.325972 FALSE  \n",
       "3 female ... 1427.339   0.00000 510.7487 158.0135 2096.101 10.745891 FALSE  \n",
       "4 male   ... 1863.431  92.97364 729.3130 218.5987 2904.317 10.333031 FALSE  \n",
       "5 male   ... 1465.169 246.77502 607.4642 188.6604 2508.069  7.403925 FALSE  \n",
       "6 female ... 1240.683  93.44097 549.7173 153.4244 2037.266  8.391991 FALSE  \n",
       "  cum day_final final_BMI_class\n",
       "1 1   547.5000  normal         \n",
       "2 1   547.5000  normal         \n",
       "3 1   912.5000  obese          \n",
       "4 1   790.8333  overweight     \n",
       "5 1   608.3333  normal         \n",
       "6 1   608.3333  normal         "
      ]
     },
     "metadata": {},
     "output_type": "display_data"
    }
   ],
   "source": [
    "head(merged)"
   ]
  },
  {
   "cell_type": "code",
   "execution_count": 6,
   "id": "ddbbc74e",
   "metadata": {},
   "outputs": [],
   "source": [
    "reshape <- merged  %>% \n",
    "select(Sex, Age_est, BMI_class, BMI_est, startWeight, baseIntake, newIntake, Hall_TEE0, Hall_TEE1)  %>% \n",
    "reshape2::melt(., id.vars = c(\"startWeight\", \"Sex\", \"Age_est\", \"BMI_class\", \"BMI_est\"))  %>% \n",
    "mutate(type = ifelse(variable %in% c(\"baseIntake\", \"Hall_TEE0\"), \"Baseline\", \"Final\"))"
   ]
  },
  {
   "cell_type": "code",
   "execution_count": 7,
   "id": "da2b2a31",
   "metadata": {},
   "outputs": [
    {
     "name": "stderr",
     "output_type": "stream",
     "text": [
      "`geom_smooth()` using method = 'loess' and formula 'y ~ x'\n",
      "\n"
     ]
    },
    {
     "data": {
      "image/png": "[encoded data removed]",
      "text/plain": [
       "plot without title"
      ]
     },
     "metadata": {
      "image/png": {
       "height": 420,
       "width": 420
      }
     },
     "output_type": "display_data"
    }
   ],
   "source": [
    "reshape  %>% \n",
    "mutate(label = case_when(variable == \"baseIntake\" ~ \"Nesta baseline\",\n",
    "                         variable == \"newIntake\" ~ \"Nesta final\",\n",
    "                         variable == \"Hall_TEE0\" ~ \"NIDDK baseline\",\n",
    "                         TRUE ~ \"NIDDK final\"))  %>% \n",
    "ggplot(., aes(x = BMI_est, y = value, colour = label)) + \n",
    "geom_point() + \n",
    "geom_smooth(se = F) +\n",
    "facet_grid(type ~ .) +\n",
    "theme_ipsum() +\n",
    "labs(x = \"Baseline BMI\", \n",
    "     y = \"kcal/day\",\n",
    "    colour = \"\")"
   ]
  },
  {
   "cell_type": "code",
   "execution_count": 8,
   "id": "858c5e4c",
   "metadata": {},
   "outputs": [
    {
     "name": "stderr",
     "output_type": "stream",
     "text": [
      "`geom_smooth()` using method = 'loess' and formula 'y ~ x'\n",
      "\n"
     ]
    },
    {
     "data": {
      "image/png": "[encoded data removed]",
      "text/plain": [
       "plot without title"
      ]
     },
     "metadata": {
      "image/png": {
       "height": 420,
       "width": 420
      }
     },
     "output_type": "display_data"
    }
   ],
   "source": [
    "reshape  %>% \n",
    "mutate(label = case_when(variable == \"baseIntake\" ~ \"Nesta baseline\",\n",
    "                         variable == \"newIntake\" ~ \"Nesta final\",\n",
    "                         variable == \"Hall_TEE0\" ~ \"NIDDK baseline\",\n",
    "                         TRUE ~ \"NIDDK final\"))  %>% \n",
    "ggplot(., aes(x = Age_est, y = value, colour = label)) + \n",
    "geom_point() + \n",
    "geom_smooth() +\n",
    "facet_grid(type ~ .) +\n",
    "theme_ipsum() +\n",
    "labs(x = \"Baseline Age\", \n",
    "     y = \"kcal/day\",\n",
    "    colour = \"\")"
   ]
  },
  {
   "cell_type": "code",
   "execution_count": null,
   "id": "b22f7ffd",
   "metadata": {},
   "outputs": [],
   "source": []
  }
 ],
 "metadata": {
  "kernelspec": {
   "display_name": "R",
   "language": "R",
   "name": "ir"
  },
  "language_info": {
   "codemirror_mode": "r",
   "file_extension": ".r",
   "mimetype": "text/x-r-source",
   "name": "R",
   "pygments_lexer": "r",
   "version": "4.1.2"
  }
 },
 "nbformat": 4,
 "nbformat_minor": 5
}
